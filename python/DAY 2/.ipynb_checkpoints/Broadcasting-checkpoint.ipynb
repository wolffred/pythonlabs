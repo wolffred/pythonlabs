{
 "cells": [
  {
   "cell_type": "code",
   "execution_count": 1,
   "id": "4297c0ab",
   "metadata": {},
   "outputs": [],
   "source": [
    "import numpy as np\n",
    "import pandas as pd"
   ]
  },
  {
   "cell_type": "code",
   "execution_count": 2,
   "id": "668709a9",
   "metadata": {},
   "outputs": [
    {
     "data": {
      "text/plain": [
       "(250, 7)"
      ]
     },
     "execution_count": 2,
     "metadata": {},
     "output_type": "execute_result"
    }
   ],
   "source": [
    "array_2016 = np.genfromtxt(\"AAPL-2016.csv\", skip_header = 1, delimiter = \",\")\n",
    "array_2016.shape"
   ]
  },
  {
   "cell_type": "code",
   "execution_count": 6,
   "id": "b1a6c555",
   "metadata": {},
   "outputs": [],
   "source": [
    "projection = array_2016[:,1:5:3]"
   ]
  },
  {
   "cell_type": "code",
   "execution_count": null,
   "id": "a9b42ba4",
   "metadata": {},
   "outputs": [],
   "source": [
    "[1,2,3,4,5,6]\n",
    "ffdd[2:3]"
   ]
  },
  {
   "cell_type": "code",
   "execution_count": 7,
   "id": "58810a37",
   "metadata": {
    "scrolled": true
   },
   "outputs": [
    {
     "name": "stdout",
     "output_type": "stream",
     "text": [
      "Before broadcasting\n",
      "[[102.610001 105.349998]\n",
      " [105.75     102.709999]\n",
      " [100.559998 100.699997]\n",
      " [ 98.68      96.449997]\n",
      " [ 98.550003  96.959999]]\n"
     ]
    }
   ],
   "source": [
    "print(\"Before broadcasting\")\n",
    "print(projection[:5])"
   ]
  },
  {
   "cell_type": "code",
   "execution_count": 10,
   "id": "fea8176c",
   "metadata": {
    "scrolled": true
   },
   "outputs": [
    {
     "name": "stdout",
     "output_type": "stream",
     "text": [
      "After broadcasting\n",
      "[[112.8710011 126.4199976]\n",
      " [116.325     123.2519988]\n",
      " [110.6159978 120.8399964]\n",
      " [108.548     115.7399964]\n",
      " [108.4050033 116.3519988]]\n"
     ]
    }
   ],
   "source": [
    "print(\"After broadcasting\")\n",
    "broadcast_array = np.array([1.1,1.2])\n",
    "output = projection * broadcast_array\n",
    "print(output[:5])"
   ]
  }
 ],
 "metadata": {
  "kernelspec": {
   "display_name": "Python 3 (ipykernel)",
   "language": "python",
   "name": "python3"
  },
  "language_info": {
   "codemirror_mode": {
    "name": "ipython",
    "version": 3
   },
   "file_extension": ".py",
   "mimetype": "text/x-python",
   "name": "python",
   "nbconvert_exporter": "python",
   "pygments_lexer": "ipython3",
   "version": "3.10.9"
  }
 },
 "nbformat": 4,
 "nbformat_minor": 5
}
