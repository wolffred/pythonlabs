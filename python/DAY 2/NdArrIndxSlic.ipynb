{
 "cells": [
  {
   "cell_type": "markdown",
   "id": "6bdf7ca8",
   "metadata": {},
   "source": [
    "Q1"
   ]
  },
  {
   "cell_type": "code",
   "execution_count": 1,
   "id": "b55e05c2",
   "metadata": {},
   "outputs": [],
   "source": [
    "import numpy as np\n",
    "import pandas as pd"
   ]
  },
  {
   "cell_type": "code",
   "execution_count": 8,
   "id": "6669e545",
   "metadata": {},
   "outputs": [
    {
     "data": {
      "text/plain": [
       "(250, 7)"
      ]
     },
     "execution_count": 8,
     "metadata": {},
     "output_type": "execute_result"
    }
   ],
   "source": [
    "array_2016 = np.genfromtxt(\"AAPL-2016.csv\", skip_header = 1, delimiter = \",\")\n",
    "array_2016.shape"
   ]
  },
  {
   "cell_type": "code",
   "execution_count": 45,
   "id": "5dd4ce83",
   "metadata": {},
   "outputs": [],
   "source": [
    "january = array_2016[:20]"
   ]
  },
  {
   "cell_type": "markdown",
   "id": "cc717437",
   "metadata": {},
   "source": [
    "Q2"
   ]
  },
  {
   "cell_type": "code",
   "execution_count": 14,
   "id": "2f95c8d5",
   "metadata": {},
   "outputs": [
    {
     "data": {
      "text/plain": [
       "array([[           nan, 1.02610001e+02, 1.05370003e+02, ...,\n",
       "        1.05349998e+02, 1.00274513e+02, 1.00000000e+02],\n",
       "       [           nan, 1.05750000e+02, 1.05849998e+02, ...,\n",
       "        1.02709999e+02, 9.77616810e+01, 5.57910000e+07],\n",
       "       [           nan, 1.00559998e+02, 1.02370003e+02, ...,\n",
       "        1.00699997e+02, 9.58485110e+01, 6.84574000e+07],\n",
       "       ...,\n",
       "       [           nan, 1.15589996e+02, 1.16519997e+02, ...,\n",
       "        1.16519997e+02, 1.13373917e+02, 1.42495000e+07],\n",
       "       [           nan, 1.16519997e+02, 1.17800003e+02, ...,\n",
       "        1.17260002e+02, 1.14093948e+02, 1.82969000e+07],\n",
       "       [           nan, 1.17519997e+02, 1.18019997e+02, ...,\n",
       "        1.16760002e+02, 1.13607445e+02, 2.09059000e+07]])"
      ]
     },
     "execution_count": 14,
     "metadata": {},
     "output_type": "execute_result"
    }
   ],
   "source": [
    "january[0][6] = 100\n",
    "january\n",
    "array_2016"
   ]
  },
  {
   "cell_type": "markdown",
   "id": "2dcca3b1",
   "metadata": {},
   "source": [
    "Q3"
   ]
  },
  {
   "cell_type": "code",
   "execution_count": 16,
   "id": "8de5eacd",
   "metadata": {},
   "outputs": [
    {
     "name": "stdout",
     "output_type": "stream",
     "text": [
      "[[   nan 102.61 105.37 102.00 105.35 100.27 100.00]\n",
      " [   nan 105.75 105.85 102.41 102.71  97.76 55791000.00]\n",
      " [   nan 100.56 102.37  99.87 100.70  95.85 68457400.00]\n",
      " [   nan  98.68 100.13  96.43  96.45  91.80 81094400.00]\n",
      " [   nan  98.55  99.11  96.76  96.96  92.29 70798000.00]]\n"
     ]
    }
   ],
   "source": [
    "np.set_printoptions(formatter={\"float\": '{:6.2f}'.format})\n",
    "print(array_2016[:5])"
   ]
  },
  {
   "cell_type": "markdown",
   "id": "d8002025",
   "metadata": {},
   "source": [
    "Q4"
   ]
  },
  {
   "cell_type": "code",
   "execution_count": 29,
   "id": "f2f2ff5c",
   "metadata": {},
   "outputs": [
    {
     "data": {
      "text/plain": [
       "118.25"
      ]
     },
     "execution_count": 29,
     "metadata": {},
     "output_type": "execute_result"
    }
   ],
   "source": [
    "max_values = array_2016.max(axis=0)\n",
    "max_values[4]"
   ]
  },
  {
   "cell_type": "markdown",
   "id": "307add70",
   "metadata": {},
   "source": [
    "Q5"
   ]
  },
  {
   "cell_type": "code",
   "execution_count": 50,
   "id": "bb270267",
   "metadata": {
    "scrolled": true
   },
   "outputs": [
    {
     "data": {
      "text/plain": [
       "array([[105.37, 102.00],\n",
       "       [105.85, 102.41],\n",
       "       [102.37,  99.87],\n",
       "       [100.13,  96.43],\n",
       "       [ 99.11,  96.76]])"
      ]
     },
     "execution_count": 50,
     "metadata": {},
     "output_type": "execute_result"
    }
   ],
   "source": [
    "vert_slice = array_2016[:,2:4]\n",
    "vert_slice[:5]"
   ]
  },
  {
   "cell_type": "code",
   "execution_count": null,
   "id": "644f3d74",
   "metadata": {},
   "outputs": [],
   "source": []
  }
 ],
 "metadata": {
  "kernelspec": {
   "display_name": "Python 3 (ipykernel)",
   "language": "python",
   "name": "python3"
  },
  "language_info": {
   "codemirror_mode": {
    "name": "ipython",
    "version": 3
   },
   "file_extension": ".py",
   "mimetype": "text/x-python",
   "name": "python",
   "nbconvert_exporter": "python",
   "pygments_lexer": "ipython3",
   "version": "3.10.9"
  }
 },
 "nbformat": 4,
 "nbformat_minor": 5
}
