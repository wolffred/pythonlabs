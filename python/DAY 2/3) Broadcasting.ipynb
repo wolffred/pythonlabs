{
 "cells": [
  {
   "cell_type": "code",
   "execution_count": 1,
   "id": "dd301a11",
   "metadata": {},
   "outputs": [],
   "source": [
    "import numpy as np\n",
    "import pandas as pd"
   ]
  },
  {
   "cell_type": "code",
   "execution_count": 3,
   "id": "5394daf5",
   "metadata": {},
   "outputs": [],
   "source": [
    "aapl_2016 = np.genfromtxt('AAPL-2016.csv', delimiter = ',', skip_header = 1)"
   ]
  },
  {
   "cell_type": "code",
   "execution_count": 4,
   "id": "3f4096f7",
   "metadata": {},
   "outputs": [],
   "source": [
    "projection = aapl_2016[:,[1,4]]\n",
    "#projection = array_2016[:,1:5:3]"
   ]
  },
  {
   "cell_type": "code",
   "execution_count": 5,
   "id": "5597b914",
   "metadata": {},
   "outputs": [
    {
     "name": "stdout",
     "output_type": "stream",
     "text": [
      "before broadcasting\n",
      "[[102.610001 105.349998]\n",
      " [105.75     102.709999]\n",
      " [100.559998 100.699997]\n",
      " [ 98.68      96.449997]\n",
      " [ 98.550003  96.959999]\n",
      " [ 98.970001  98.529999]\n",
      " [100.550003  99.959999]\n",
      " [100.32      97.389999]\n",
      " [ 97.959999  99.519997]\n",
      " [ 96.199997  97.129997]]\n"
     ]
    }
   ],
   "source": [
    "print('before broadcasting')\n",
    "print(projection[:10])\n",
    "#print(projection[9:10])"
   ]
  },
  {
   "cell_type": "code",
   "execution_count": 6,
   "id": "609030c2",
   "metadata": {},
   "outputs": [
    {
     "name": "stdout",
     "output_type": "stream",
     "text": [
      "after broadcasting\n",
      "[[112.8710011 126.4199976]\n",
      " [116.325     123.2519988]\n",
      " [110.6159978 120.8399964]\n",
      " [108.548     115.7399964]\n",
      " [108.4050033 116.3519988]\n",
      " [108.8670011 118.2359988]\n",
      " [110.6050033 119.9519988]\n",
      " [110.352     116.8679988]\n",
      " [107.7559989 119.4239964]\n",
      " [105.8199967 116.5559964]]\n"
     ]
    }
   ],
   "source": [
    "print('after broadcasting')\n",
    "broadcast_array = np.array([1.1, 1.2])\n",
    "output = projection * broadcast_array\n",
    "print(output[:10])"
   ]
  },
  {
   "cell_type": "code",
   "execution_count": null,
   "id": "51d1a095",
   "metadata": {},
   "outputs": [],
   "source": []
  }
 ],
 "metadata": {
  "kernelspec": {
   "display_name": "Python 3 (ipykernel)",
   "language": "python",
   "name": "python3"
  },
  "language_info": {
   "codemirror_mode": {
    "name": "ipython",
    "version": 3
   },
   "file_extension": ".py",
   "mimetype": "text/x-python",
   "name": "python",
   "nbconvert_exporter": "python",
   "pygments_lexer": "ipython3",
   "version": "3.10.9"
  }
 },
 "nbformat": 4,
 "nbformat_minor": 5
}
