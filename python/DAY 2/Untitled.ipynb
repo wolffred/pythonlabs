{
 "cells": [
  {
   "cell_type": "code",
   "execution_count": 1,
   "id": "71193fcd",
   "metadata": {},
   "outputs": [],
   "source": [
    "import numpy as np"
   ]
  },
  {
   "cell_type": "code",
   "execution_count": 7,
   "id": "031e4a0d",
   "metadata": {},
   "outputs": [
    {
     "name": "stdout",
     "output_type": "stream",
     "text": [
      "type(a):  <class 'numpy.ndarray'>\n",
      "a.shape:  (3,)\n",
      "1 2\n",
      "[5 2 3]\n"
     ]
    }
   ],
   "source": [
    "a = np.array([1,2,3])\n",
    "print('type(a): ', type(a))\n",
    "print('a.shape: ', a.shape)\n",
    "print(a[0], a[1])\n",
    "\n",
    "a[0] = 5\n",
    "print(a)"
   ]
  },
  {
   "cell_type": "code",
   "execution_count": 12,
   "id": "ac55f548",
   "metadata": {},
   "outputs": [
    {
     "name": "stdout",
     "output_type": "stream",
     "text": [
      "(2, 3)\n",
      "1\n",
      "[[1 2 3]\n",
      " [4 5 6]]\n"
     ]
    }
   ],
   "source": [
    "b = np.array([[1,2,3], [4,5,6]])\n",
    "print(b.shape)\n",
    "print(b[0,0])\n",
    "print(b)"
   ]
  },
  {
   "cell_type": "code",
   "execution_count": 14,
   "id": "3ad92953",
   "metadata": {},
   "outputs": [],
   "source": [
    "c = np.array([1,2,3], dtype = np.float64)\n",
    "\n",
    "d = np.array([4,5,6], dtype = np.int32)"
   ]
  },
  {
   "cell_type": "code",
   "execution_count": 21,
   "id": "8c575467",
   "metadata": {},
   "outputs": [
    {
     "name": "stdout",
     "output_type": "stream",
     "text": [
      "int16\n",
      "(3, 3)\n"
     ]
    }
   ],
   "source": [
    "my_int = np.dtype(np.int16)\n",
    "print(my_int)\n",
    "\n",
    "lst = [\n",
    "    [1.32, 2.4343, 3.4343],\n",
    "    [4.45, 5.4346, 6.3434],\n",
    "    [7.34, 8.4334, 9.4343]\n",
    "]\n",
    "\n",
    "A = np.array(lst, dtype = np.int16)\n",
    "print(A)"
   ]
  },
  {
   "cell_type": "code",
   "execution_count": 20,
   "id": "839d4633",
   "metadata": {},
   "outputs": [
    {
     "name": "stdout",
     "output_type": "stream",
     "text": [
      "[ 1  2  3  4  5  6  7  8  9 10 11 12]\n",
      "Data type:  int32\n",
      "Shape:  (12,)\n",
      "Size:  12\n",
      "Stride:  (4,)\n"
     ]
    }
   ],
   "source": [
    "samples = np.array([1,2,3,4,5,6,7,8,9,10,11,12])\n",
    "print(samples)\n",
    "\n",
    "print(\"Data type: \", samples.dtype)\n",
    "print(\"Shape: \", samples.shape)\n",
    "print(\"Size: \", samples.size)\n",
    "print(\"Stride: \", samples.strides)\n"
   ]
  },
  {
   "cell_type": "code",
   "execution_count": 29,
   "id": "6e75fd45",
   "metadata": {},
   "outputs": [
    {
     "name": "stdout",
     "output_type": "stream",
     "text": [
      "[1 2 3 4]\n",
      "[1 2 3 4]\n",
      "[1.  1.3 1.6 1.9 2.2 2.5 2.8 3.1 3.4 3.7 4.  4.3 4.6 4.9]\n",
      "[1 3 5 7]\n"
     ]
    }
   ],
   "source": [
    "a = np.arange(1, 5)\n",
    "print(a)\n",
    "\n",
    "b = np.arange(start = 1, stop = 5)\n",
    "print(b)\n",
    "\n",
    "c = np.arange(1, 5, 0.3)\n",
    "print(c)\n",
    "\n",
    "d = np.arange(1, 10, 2.9, int)\n",
    "print(d)"
   ]
  },
  {
   "cell_type": "code",
   "execution_count": 30,
   "id": "a2367d25",
   "metadata": {},
   "outputs": [
    {
     "name": "stdout",
     "output_type": "stream",
     "text": [
      "42\n",
      "()\n",
      "0\n"
     ]
    }
   ],
   "source": [
    "x = np.array(42)\n",
    "print(x)\n",
    "print(x.shape)\n",
    "print(x.ndim)\n",
    "#np.ndim(x)"
   ]
  },
  {
   "cell_type": "code",
   "execution_count": 32,
   "id": "89d2711e",
   "metadata": {},
   "outputs": [
    {
     "name": "stdout",
     "output_type": "stream",
     "text": [
      "[1 2 3]\n",
      "int32\n",
      "1\n"
     ]
    }
   ],
   "source": [
    "f = np.array([1,2,3])\n",
    "print(f)\n",
    "print(f.dtype)\n",
    "print(f.ndim)"
   ]
  },
  {
   "cell_type": "code",
   "execution_count": 35,
   "id": "11b04cc7",
   "metadata": {},
   "outputs": [
    {
     "name": "stdout",
     "output_type": "stream",
     "text": [
      "[[1. 1. 1.]\n",
      " [1. 1. 1.]]\n",
      "[[0 0 0]\n",
      " [0 0 0]]\n"
     ]
    }
   ],
   "source": [
    "e = np.ones((2,3))\n",
    "print(e)\n",
    "\n",
    "f = np.zeros((2,3), dtype = int)\n",
    "print(f)"
   ]
  },
  {
   "cell_type": "code",
   "execution_count": 36,
   "id": "ae5563d8",
   "metadata": {},
   "outputs": [
    {
     "name": "stdout",
     "output_type": "stream",
     "text": [
      "[1 1 1]\n"
     ]
    }
   ],
   "source": [
    "f = np.array([1,2,3])\n",
    "x = np.ones_like(f)\n",
    "print(x)"
   ]
  },
  {
   "cell_type": "code",
   "execution_count": 40,
   "id": "716e17ec",
   "metadata": {},
   "outputs": [
    {
     "name": "stdout",
     "output_type": "stream",
     "text": [
      "[1 2 3]\n"
     ]
    }
   ],
   "source": [
    "f = np.array([1,2,3], order = 'A')\n",
    "g = f.copy()\n",
    "\n",
    "print(g)"
   ]
  },
  {
   "cell_type": "code",
   "execution_count": 41,
   "id": "a09dac09",
   "metadata": {},
   "outputs": [
    {
     "name": "stdout",
     "output_type": "stream",
     "text": [
      "[[1. 0. 0. 0.]\n",
      " [0. 1. 0. 0.]\n",
      " [0. 0. 1. 0.]\n",
      " [0. 0. 0. 1.]]\n",
      "[[1 0 0 0 0]\n",
      " [0 1 0 0 0]\n",
      " [0 0 1 0 0]\n",
      " [0 0 0 1 0]\n",
      " [0 0 0 0 1]]\n",
      "[[1 0 0 0 0]\n",
      " [0 1 0 0 0]\n",
      " [0 0 1 0 0]\n",
      " [0 0 0 1 0]\n",
      " [0 0 0 0 1]]\n"
     ]
    }
   ],
   "source": [
    "x = np.identity(4)\n",
    "print(x)\n",
    "\n",
    "y = np.identity(5, dtype = int)\n",
    "print(y)\n",
    "\n",
    "z = np.identity(5, dtype = int)\n",
    "print(z)\n"
   ]
  },
  {
   "cell_type": "code",
   "execution_count": 43,
   "id": "6b2b7995",
   "metadata": {},
   "outputs": [
    {
     "name": "stdout",
     "output_type": "stream",
     "text": [
      "[[0. 1. 0. 0. 0.]\n",
      " [0. 0. 1. 0. 0.]\n",
      " [0. 0. 0. 1. 0.]]\n"
     ]
    }
   ],
   "source": [
    "x = np.eye(3,5,k=1,dtype = float)\n",
    "print(x)"
   ]
  }
 ],
 "metadata": {
  "kernelspec": {
   "display_name": "Python 3 (ipykernel)",
   "language": "python",
   "name": "python3"
  },
  "language_info": {
   "codemirror_mode": {
    "name": "ipython",
    "version": 3
   },
   "file_extension": ".py",
   "mimetype": "text/x-python",
   "name": "python",
   "nbconvert_exporter": "python",
   "pygments_lexer": "ipython3",
   "version": "3.10.9"
  }
 },
 "nbformat": 4,
 "nbformat_minor": 5
}
