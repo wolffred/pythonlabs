{
 "cells": [
  {
   "cell_type": "code",
   "execution_count": 2,
   "id": "817777c6",
   "metadata": {},
   "outputs": [],
   "source": [
    "import numpy as np\n",
    "import pandas as pd"
   ]
  },
  {
   "cell_type": "code",
   "execution_count": 3,
   "id": "5ed94829",
   "metadata": {},
   "outputs": [],
   "source": [
    "aapl_2016 = np.genfromtxt('AAPL-2016.csv', delimiter=',', skip_header = 1)"
   ]
  },
  {
   "cell_type": "code",
   "execution_count": 4,
   "id": "f6dd4dd1",
   "metadata": {},
   "outputs": [],
   "source": [
    "january = aapl_2016[:20]"
   ]
  },
  {
   "cell_type": "code",
   "execution_count": 5,
   "id": "bb5ccbdc",
   "metadata": {
    "scrolled": true
   },
   "outputs": [
    {
     "name": "stdout",
     "output_type": "stream",
     "text": [
      "[[100.]]\n"
     ]
    }
   ],
   "source": [
    "january[0][6] = 100\n",
    "print(january[:1, [6]])"
   ]
  },
  {
   "cell_type": "code",
   "execution_count": 8,
   "id": "d022006f",
   "metadata": {},
   "outputs": [],
   "source": [
    "np.set_printoptions(formatter={'float': '{: 6.2f}'.format})"
   ]
  },
  {
   "cell_type": "code",
   "execution_count": 9,
   "id": "e593930d",
   "metadata": {
    "scrolled": true
   },
   "outputs": [
    {
     "name": "stdout",
     "output_type": "stream",
     "text": [
      "[[ 100.00]\n",
      " [ 55791000.00]\n",
      " [ 68457400.00]\n",
      " [ 81094400.00]\n",
      " [ 70798000.00]]\n"
     ]
    }
   ],
   "source": [
    "print(aapl_2016[:5, [6]])"
   ]
  },
  {
   "cell_type": "code",
   "execution_count": 10,
   "id": "c6930791",
   "metadata": {},
   "outputs": [
    {
     "data": {
      "text/plain": [
       "118.25"
      ]
     },
     "execution_count": 10,
     "metadata": {},
     "output_type": "execute_result"
    }
   ],
   "source": [
    "max_values = aapl_2016.max(axis = 0)\n",
    "max_values[4]"
   ]
  },
  {
   "cell_type": "code",
   "execution_count": 13,
   "id": "f7105cf6",
   "metadata": {},
   "outputs": [
    {
     "data": {
      "text/plain": [
       "array([[ 105.37,  102.00],\n",
       "       [ 105.85,  102.41],\n",
       "       [ 102.37,  99.87]])"
      ]
     },
     "execution_count": 13,
     "metadata": {},
     "output_type": "execute_result"
    }
   ],
   "source": [
    "vert_slice = aapl_2016[:, [2, 3]]\n",
    "vert_slice[:5]"
   ]
  },
  {
   "cell_type": "code",
   "execution_count": null,
   "id": "dba4903a",
   "metadata": {},
   "outputs": [],
   "source": [
    "vert_slice = array_2016[:,2:4]\n",
    "vert_slice[:5]"
   ]
  }
 ],
 "metadata": {
  "kernelspec": {
   "display_name": "Python 3 (ipykernel)",
   "language": "python",
   "name": "python3"
  },
  "language_info": {
   "codemirror_mode": {
    "name": "ipython",
    "version": 3
   },
   "file_extension": ".py",
   "mimetype": "text/x-python",
   "name": "python",
   "nbconvert_exporter": "python",
   "pygments_lexer": "ipython3",
   "version": "3.10.9"
  }
 },
 "nbformat": 4,
 "nbformat_minor": 5
}
