{
 "cells": [
  {
   "cell_type": "code",
   "execution_count": 1,
   "id": "49f5cd65",
   "metadata": {},
   "outputs": [],
   "source": [
    "import numpy as np\n",
    "import csv"
   ]
  },
  {
   "cell_type": "code",
   "execution_count": 2,
   "id": "5764c9e0",
   "metadata": {},
   "outputs": [],
   "source": [
    "aapl_2016 = np.genfromtxt('AAPL-2016.csv', delimiter=',', skip_header = 1)\n",
    "aapl_2017 = np.genfromtxt('AAPL-2017.csv', delimiter=',', skip_header = 1)"
   ]
  },
  {
   "cell_type": "code",
   "execution_count": 3,
   "id": "c08ca13f",
   "metadata": {
    "collapsed": true
   },
   "outputs": [
    {
     "name": "stdout",
     "output_type": "stream",
     "text": [
      "[[           nan 1.02610001e+02 1.05370003e+02 ... 1.05349998e+02\n",
      "  1.00274513e+02 6.76494000e+07]\n",
      " [           nan 1.05750000e+02 1.05849998e+02 ... 1.02709999e+02\n",
      "  9.77616810e+01 5.57910000e+07]\n",
      " [           nan 1.00559998e+02 1.02370003e+02 ... 1.00699997e+02\n",
      "  9.58485110e+01 6.84574000e+07]\n",
      " ...\n",
      " [           nan 1.15589996e+02 1.16519997e+02 ... 1.16519997e+02\n",
      "  1.13373917e+02 1.42495000e+07]\n",
      " [           nan 1.16519997e+02 1.17800003e+02 ... 1.17260002e+02\n",
      "  1.14093948e+02 1.82969000e+07]\n",
      " [           nan 1.17519997e+02 1.18019997e+02 ... 1.16760002e+02\n",
      "  1.13607445e+02 2.09059000e+07]]\n"
     ]
    }
   ],
   "source": [
    "print(aapl_2016)"
   ]
  },
  {
   "cell_type": "code",
   "execution_count": 4,
   "id": "b2c6ba13",
   "metadata": {
    "collapsed": true
   },
   "outputs": [
    {
     "name": "stdout",
     "output_type": "stream",
     "text": [
      "[[          nan 2.8950001e+01 2.9082500e+01 ... 2.9037500e+01\n",
      "  2.7219833e+01 1.1512760e+08]\n",
      " [          nan 2.8962500e+01 2.9127501e+01 ... 2.9004999e+01\n",
      "  2.7189365e+01 8.4472400e+07]\n",
      " [          nan 2.8980000e+01 2.9215000e+01 ... 2.9152500e+01\n",
      "  2.7327633e+01 8.8774400e+07]\n",
      " ...\n",
      " [          nan 4.2525002e+01 4.2695000e+01 ... 4.2650002e+01\n",
      "  4.0623154e+01 8.5992800e+07]\n",
      " [          nan 4.2750000e+01 4.2962502e+01 ... 4.2770000e+01\n",
      "  4.0737450e+01 6.5920800e+07]\n",
      " [          nan 4.2630001e+01 4.2647499e+01 ... 4.2307499e+01\n",
      "  4.0296928e+01 1.0399960e+08]]\n"
     ]
    }
   ],
   "source": [
    "print(aapl_2017)"
   ]
  },
  {
   "cell_type": "code",
   "execution_count": 5,
   "id": "7612b263",
   "metadata": {
    "scrolled": true
   },
   "outputs": [
    {
     "name": "stdout",
     "output_type": "stream",
     "text": [
      "(250, 7)\n",
      "(251, 7)\n"
     ]
    }
   ],
   "source": [
    "print(aapl_2016.shape)\n",
    "print(aapl_2017.shape)"
   ]
  },
  {
   "cell_type": "code",
   "execution_count": 9,
   "id": "9893c047",
   "metadata": {},
   "outputs": [],
   "source": [
    "aapl_2017 = np.delete(aapl_2017,250,0)"
   ]
  },
  {
   "cell_type": "code",
   "execution_count": 10,
   "id": "b9b1e72b",
   "metadata": {},
   "outputs": [
    {
     "name": "stdout",
     "output_type": "stream",
     "text": [
      "(250, 7)\n",
      "(250, 7)\n"
     ]
    }
   ],
   "source": [
    "print(aapl_2016.shape)\n",
    "print(aapl_2017.shape)"
   ]
  },
  {
   "cell_type": "code",
   "execution_count": 11,
   "id": "0a8ae503",
   "metadata": {},
   "outputs": [],
   "source": [
    "open_aapl_2016 = aapl_2016[:,[1]]"
   ]
  },
  {
   "cell_type": "code",
   "execution_count": 12,
   "id": "eed7079c",
   "metadata": {},
   "outputs": [],
   "source": [
    "volume_aapl_2016 = aapl_2016[:,[6]]"
   ]
  },
  {
   "cell_type": "code",
   "execution_count": 13,
   "id": "8dd9e308",
   "metadata": {},
   "outputs": [],
   "source": [
    "open_aapl_2017 = aapl_2017[:,[1]]"
   ]
  },
  {
   "cell_type": "code",
   "execution_count": 14,
   "id": "160232c6",
   "metadata": {},
   "outputs": [],
   "source": [
    "volume_aapl_2017 = aapl_2017[:,[6]]"
   ]
  },
  {
   "cell_type": "code",
   "execution_count": 15,
   "id": "9c8d356e",
   "metadata": {},
   "outputs": [],
   "source": [
    "volume_open_2016 = aapl_2016[:,[1, 6]]\n",
    "volume_open_2017 = aapl_2017[:,[1, 6]]"
   ]
  },
  {
   "cell_type": "code",
   "execution_count": 16,
   "id": "fd660d0e",
   "metadata": {},
   "outputs": [],
   "source": [
    "sum_2016 = volume_open_2016.sum(axis = 0)\n",
    "sum_2017 = volume_open_2017.sum(axis = 0)"
   ]
  },
  {
   "cell_type": "code",
   "execution_count": 17,
   "id": "b47bf6b3",
   "metadata": {},
   "outputs": [],
   "source": [
    "new_sum_2016 = np.array(sum_2016, dtype = np.int64)"
   ]
  },
  {
   "cell_type": "code",
   "execution_count": 18,
   "id": "8c0849f2",
   "metadata": {},
   "outputs": [],
   "source": [
    "new_sum_2017 = np.array(sum_2017, dtype = np.int64)"
   ]
  },
  {
   "cell_type": "code",
   "execution_count": 19,
   "id": "7e05955c",
   "metadata": {},
   "outputs": [
    {
     "name": "stdout",
     "output_type": "stream",
     "text": [
      "[     26102 9634995700]\n"
     ]
    }
   ],
   "source": [
    "print(new_sum_2016)"
   ]
  },
  {
   "cell_type": "code",
   "execution_count": 20,
   "id": "a0adf4a2",
   "metadata": {
    "scrolled": true
   },
   "outputs": [
    {
     "name": "stdout",
     "output_type": "stream",
     "text": [
      "[       9397 27139106400]\n"
     ]
    }
   ],
   "source": [
    "print(new_sum_2017)"
   ]
  },
  {
   "cell_type": "code",
   "execution_count": 21,
   "id": "6bd43827",
   "metadata": {},
   "outputs": [
    {
     "data": {
      "text/plain": [
       "-17504110700.0"
      ]
     },
     "execution_count": 21,
     "metadata": {},
     "output_type": "execute_result"
    }
   ],
   "source": [
    "change = np.subtract(volume_open_2016, volume_open_2017)\n",
    "change.sum(axis = 0)[1]"
   ]
  },
  {
   "cell_type": "code",
   "execution_count": 22,
   "id": "dcaf7d9a",
   "metadata": {},
   "outputs": [
    {
     "name": "stdout",
     "output_type": "stream",
     "text": [
      "-17504110700\n"
     ]
    }
   ],
   "source": [
    "print(new_sum_2016[1]- new_sum_2017[1])\n"
   ]
  }
 ],
 "metadata": {
  "kernelspec": {
   "display_name": "Python 3 (ipykernel)",
   "language": "python",
   "name": "python3"
  },
  "language_info": {
   "codemirror_mode": {
    "name": "ipython",
    "version": 3
   },
   "file_extension": ".py",
   "mimetype": "text/x-python",
   "name": "python",
   "nbconvert_exporter": "python",
   "pygments_lexer": "ipython3",
   "version": "3.10.9"
  }
 },
 "nbformat": 4,
 "nbformat_minor": 5
}
