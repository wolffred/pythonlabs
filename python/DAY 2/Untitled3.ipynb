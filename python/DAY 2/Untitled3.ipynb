{
 "cells": [
  {
   "cell_type": "code",
   "execution_count": 2,
   "id": "e20f4864",
   "metadata": {},
   "outputs": [],
   "source": [
    "import numpy as np\n",
    "import pandas as pd"
   ]
  },
  {
   "cell_type": "code",
   "execution_count": 8,
   "id": "e4347380",
   "metadata": {},
   "outputs": [],
   "source": [
    "np.set_printoptions(formatter={'float': '{:6.2f}'.format})"
   ]
  },
  {
   "cell_type": "code",
   "execution_count": 9,
   "id": "affc7ac1",
   "metadata": {},
   "outputs": [],
   "source": [
    "a = np.genfromtxt('AAPL-2016.csv', delimiter=',', skip_header = 1)\n",
    "b = np.genfromtxt('AAPL-2017.csv', delimiter=',', skip_header = 1)"
   ]
  },
  {
   "cell_type": "code",
   "execution_count": 10,
   "id": "7dab4ea4",
   "metadata": {},
   "outputs": [],
   "source": [
    "january = a[:20]"
   ]
  },
  {
   "cell_type": "code",
   "execution_count": 11,
   "id": "01f1afd4",
   "metadata": {
    "collapsed": true
   },
   "outputs": [
    {
     "data": {
      "text/plain": [
       "array([[   nan, 102.61, 105.37, 102.00, 105.35, 100.27, 67649400.00],\n",
       "       [   nan, 105.75, 105.85, 102.41, 102.71,  97.76, 55791000.00],\n",
       "       [   nan, 100.56, 102.37,  99.87, 100.70,  95.85, 68457400.00],\n",
       "       [   nan,  98.68, 100.13,  96.43,  96.45,  91.80, 81094400.00],\n",
       "       [   nan,  98.55,  99.11,  96.76,  96.96,  92.29, 70798000.00],\n",
       "       [   nan,  98.97,  99.06,  97.34,  98.53,  93.78, 49739400.00],\n",
       "       [   nan, 100.55, 100.69,  98.84,  99.96,  95.14, 49154200.00],\n",
       "       [   nan, 100.32, 101.19,  97.30,  97.39,  92.70, 62439600.00],\n",
       "       [   nan,  97.96, 100.48,  95.74,  99.52,  94.73, 63170100.00],\n",
       "       [   nan,  96.20,  97.71,  95.36,  97.13,  92.45, 79010000.00],\n",
       "       [   nan,  98.41,  98.65,  95.50,  96.66,  92.00, 53087700.00],\n",
       "       [   nan,  95.10,  98.19,  93.42,  96.79,  92.13, 72334400.00],\n",
       "       [   nan,  97.06,  97.88,  94.94,  96.30,  91.66, 52161500.00],\n",
       "       [   nan,  98.63, 101.46,  98.37, 101.42,  96.53, 65800500.00],\n",
       "       [   nan, 101.52, 101.53,  99.21,  99.44,  94.65, 51794500.00],\n",
       "       [   nan,  99.93, 100.88,  98.07,  99.99,  95.17, 75077000.00],\n",
       "       [   nan,  96.04,  96.63,  93.34,  93.42,  88.92, 133369700.00],\n",
       "       [   nan,  93.79,  94.52,  92.39,  94.09,  89.56, 55678800.00],\n",
       "       [   nan,  94.79,  97.34,  94.35,  97.34,  92.65, 64416500.00],\n",
       "       [   nan,  96.47,  96.71,  95.40,  96.43,  91.78, 40943500.00]])"
      ]
     },
     "execution_count": 11,
     "metadata": {},
     "output_type": "execute_result"
    }
   ],
   "source": [
    "january"
   ]
  },
  {
   "cell_type": "code",
   "execution_count": 16,
   "id": "ed7f1984",
   "metadata": {
    "collapsed": true
   },
   "outputs": [
    {
     "data": {
      "text/plain": [
       "array([[   nan, 102.61, 105.37, 102.00, 105.35, 100.27, 100.00],\n",
       "       [   nan, 105.75, 105.85, 102.41, 102.71,  97.76, 55791000.00],\n",
       "       [   nan, 100.56, 102.37,  99.87, 100.70,  95.85, 68457400.00],\n",
       "       [   nan,  98.68, 100.13,  96.43,  96.45,  91.80, 81094400.00],\n",
       "       [   nan,  98.55,  99.11,  96.76,  96.96,  92.29, 70798000.00],\n",
       "       [   nan,  98.97,  99.06,  97.34,  98.53,  93.78, 49739400.00],\n",
       "       [   nan, 100.55, 100.69,  98.84,  99.96,  95.14, 49154200.00],\n",
       "       [   nan, 100.32, 101.19,  97.30,  97.39,  92.70, 62439600.00],\n",
       "       [   nan,  97.96, 100.48,  95.74,  99.52,  94.73, 63170100.00],\n",
       "       [   nan,  96.20,  97.71,  95.36,  97.13,  92.45, 79010000.00],\n",
       "       [   nan,  98.41,  98.65,  95.50,  96.66,  92.00, 53087700.00],\n",
       "       [   nan,  95.10,  98.19,  93.42,  96.79,  92.13, 72334400.00],\n",
       "       [   nan,  97.06,  97.88,  94.94,  96.30,  91.66, 52161500.00],\n",
       "       [   nan,  98.63, 101.46,  98.37, 101.42,  96.53, 65800500.00],\n",
       "       [   nan, 101.52, 101.53,  99.21,  99.44,  94.65, 51794500.00],\n",
       "       [   nan,  99.93, 100.88,  98.07,  99.99,  95.17, 75077000.00],\n",
       "       [   nan,  96.04,  96.63,  93.34,  93.42,  88.92, 133369700.00],\n",
       "       [   nan,  93.79,  94.52,  92.39,  94.09,  89.56, 55678800.00],\n",
       "       [   nan,  94.79,  97.34,  94.35,  97.34,  92.65, 64416500.00],\n",
       "       [   nan,  96.47,  96.71,  95.40,  96.43,  91.78, 40943500.00]])"
      ]
     },
     "execution_count": 16,
     "metadata": {},
     "output_type": "execute_result"
    }
   ],
   "source": [
    "january[0][6] = 100\n",
    "january\n"
   ]
  },
  {
   "cell_type": "code",
   "execution_count": 15,
   "id": "588a166f",
   "metadata": {},
   "outputs": [
    {
     "data": {
      "text/plain": [
       "array([[   nan, 102.61, 105.37, ..., 105.35, 100.27, 100.00],\n",
       "       [   nan, 105.75, 105.85, ..., 102.71,  97.76, 55791000.00],\n",
       "       [   nan, 100.56, 102.37, ..., 100.70,  95.85, 68457400.00],\n",
       "       ...,\n",
       "       [   nan, 115.59, 116.52, ..., 116.52, 113.37, 14249500.00],\n",
       "       [   nan, 116.52, 117.80, ..., 117.26, 114.09, 18296900.00],\n",
       "       [   nan, 117.52, 118.02, ..., 116.76, 113.61, 20905900.00]])"
      ]
     },
     "execution_count": 15,
     "metadata": {},
     "output_type": "execute_result"
    }
   ],
   "source": [
    "a"
   ]
  },
  {
   "cell_type": "code",
   "execution_count": 17,
   "id": "100d72bd",
   "metadata": {
    "scrolled": true
   },
   "outputs": [
    {
     "name": "stdout",
     "output_type": "stream",
     "text": [
      "[[   nan 102.61 105.37 102.00 105.35 100.27 100.00]\n",
      " [   nan 105.75 105.85 102.41 102.71  97.76 55791000.00]\n",
      " [   nan 100.56 102.37  99.87 100.70  95.85 68457400.00]\n",
      " [   nan  98.68 100.13  96.43  96.45  91.80 81094400.00]\n",
      " [   nan  98.55  99.11  96.76  96.96  92.29 70798000.00]]\n"
     ]
    }
   ],
   "source": [
    "print(a[:5])"
   ]
  },
  {
   "cell_type": "code",
   "execution_count": 18,
   "id": "c5e96f7f",
   "metadata": {},
   "outputs": [
    {
     "data": {
      "text/plain": [
       "118.25"
      ]
     },
     "execution_count": 18,
     "metadata": {},
     "output_type": "execute_result"
    }
   ],
   "source": [
    "maximum = a.max(axis=0)\n",
    "maximum[4]"
   ]
  },
  {
   "cell_type": "code",
   "execution_count": 19,
   "id": "996054e4",
   "metadata": {},
   "outputs": [
    {
     "data": {
      "text/plain": [
       "array([[105.37, 102.00],\n",
       "       [105.85, 102.41],\n",
       "       [102.37,  99.87],\n",
       "       [100.13,  96.43],\n",
       "       [ 99.11,  96.76]])"
      ]
     },
     "execution_count": 19,
     "metadata": {},
     "output_type": "execute_result"
    }
   ],
   "source": [
    "vertical_slice = a[:,2:4]\n",
    "vertical_slice[:5]"
   ]
  }
 ],
 "metadata": {
  "kernelspec": {
   "display_name": "Python 3 (ipykernel)",
   "language": "python",
   "name": "python3"
  },
  "language_info": {
   "codemirror_mode": {
    "name": "ipython",
    "version": 3
   },
   "file_extension": ".py",
   "mimetype": "text/x-python",
   "name": "python",
   "nbconvert_exporter": "python",
   "pygments_lexer": "ipython3",
   "version": "3.10.9"
  }
 },
 "nbformat": 4,
 "nbformat_minor": 5
}
