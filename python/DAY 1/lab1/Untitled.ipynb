{
 "cells": [
  {
   "cell_type": "markdown",
   "id": "83807efd",
   "metadata": {},
   "source": [
    "2"
   ]
  },
  {
   "cell_type": "code",
   "execution_count": null,
   "id": "35148913",
   "metadata": {},
   "outputs": [],
   "source": [
    "num1 = int(input(\"Enter a number: \"))\n",
    "\n",
    "if num1 % 2 == 0:\n",
    "    print(\"even\")\n",
    "else:\n",
    "    print (\"odd\")"
   ]
  },
  {
   "cell_type": "markdown",
   "id": "7bc3d5b2",
   "metadata": {},
   "source": [
    "3"
   ]
  },
  {
   "cell_type": "code",
   "execution_count": null,
   "id": "1100120d",
   "metadata": {},
   "outputs": [],
   "source": [
    "my_name  = \"Will\"\n",
    "my_age = 23\n",
    "\n",
    "print(my_name)\n",
    "print(my_age)\n",
    "\n",
    "print(my_name, my_age)"
   ]
  },
  {
   "cell_type": "code",
   "execution_count": null,
   "id": "5aaf4635",
   "metadata": {},
   "outputs": [],
   "source": [
    "4"
   ]
  },
  {
   "cell_type": "code",
   "execution_count": null,
   "id": "f79a3a02",
   "metadata": {},
   "outputs": [],
   "source": [
    "number = 5\n",
    "\n",
    "guess = int(input(\"Guess a number: \"))\n",
    "\n",
    "while guess != number:\n",
    "    guess = int(input(\"Enter another guess: \"))\n",
    "\n",
    "print(\"You've won\")"
   ]
  },
  {
   "cell_type": "code",
   "execution_count": null,
   "id": "0a322b18",
   "metadata": {},
   "outputs": [],
   "source": [
    "5"
   ]
  },
  {
   "cell_type": "code",
   "execution_count": null,
   "id": "f7c14d20",
   "metadata": {},
   "outputs": [],
   "source": [
    "list1 = [1, 4, 9, 16, 25]\n",
    "\n",
    "for num in list1:\n",
    "    if num % 2 == 0:\n",
    "        print(num)\n",
    "\n",
    "\n",
    "tuple1 = (1, 4, 9, 16, 25)\n",
    "\n",
    "for num in tuple1:\n",
    "    if num % 2 == 0:\n",
    "        print(num)"
   ]
  },
  {
   "cell_type": "code",
   "execution_count": null,
   "id": "fffe93ad",
   "metadata": {},
   "outputs": [],
   "source": [
    "6"
   ]
  },
  {
   "cell_type": "code",
   "execution_count": null,
   "id": "85e9ea14",
   "metadata": {},
   "outputs": [],
   "source": [
    "age = int(input(\"Enter your age: \"))\n",
    "age = age + 1\n",
    "\n",
    "sum = 0\n",
    "print(type(sum))\n",
    "for num in range(age):\n",
    "    sum = sum + num\n",
    "\n",
    "print(sum, \"years\")\n",
    "\n",
    "print(sum * 12, \"months\")\n",
    "\n",
    "print(sum * 365, \"days\")"
   ]
  }
 ],
 "metadata": {
  "kernelspec": {
   "display_name": "Python 3 (ipykernel)",
   "language": "python",
   "name": "python3"
  },
  "language_info": {
   "codemirror_mode": {
    "name": "ipython",
    "version": 3
   },
   "file_extension": ".py",
   "mimetype": "text/x-python",
   "name": "python",
   "nbconvert_exporter": "python",
   "pygments_lexer": "ipython3",
   "version": "3.10.9"
  }
 },
 "nbformat": 4,
 "nbformat_minor": 5
}
