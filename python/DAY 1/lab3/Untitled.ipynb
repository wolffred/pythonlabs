{
 "cells": [
  {
   "cell_type": "code",
   "execution_count": null,
   "id": "1711a458",
   "metadata": {},
   "outputs": [],
   "source": [
    "2"
   ]
  },
  {
   "cell_type": "code",
   "execution_count": 1,
   "id": "deba0b9e",
   "metadata": {},
   "outputs": [
    {
     "name": "stdout",
     "output_type": "stream",
     "text": [
      "[25, 1, 4, 9, 16]\n"
     ]
    }
   ],
   "source": [
    "def last(list):\n",
    "    num = list[-1]\n",
    "\n",
    "    list.pop()\n",
    "\n",
    "    list.insert(0, num)\n",
    "\n",
    "    return list\n",
    "\n",
    "list1 = [1, 4, 9, 16, 25]\n",
    "\n",
    "print(last(list1))"
   ]
  },
  {
   "cell_type": "code",
   "execution_count": null,
   "id": "9ef06cc9",
   "metadata": {},
   "outputs": [],
   "source": [
    "3"
   ]
  },
  {
   "cell_type": "code",
   "execution_count": 2,
   "id": "c7ee4b2e",
   "metadata": {},
   "outputs": [
    {
     "name": "stdout",
     "output_type": "stream",
     "text": [
      "[6, 7, 8, 9, 10]\n"
     ]
    }
   ],
   "source": [
    "def vary(lst1, lst2):\n",
    "    \n",
    "    tup1 = []\n",
    "\n",
    "    for num in lst2:\n",
    "        \n",
    "        tup1.append(lst1[num])\n",
    "    \n",
    "    return tup1\n",
    "\n",
    "\n",
    "list1 = [6,7,8,9,10]\n",
    "\n",
    "list2 = [0,1,2,3,4]\n",
    "\n",
    "print(vary(list1, list2))"
   ]
  },
  {
   "cell_type": "code",
   "execution_count": null,
   "id": "bac83e80",
   "metadata": {},
   "outputs": [],
   "source": [
    "5"
   ]
  },
  {
   "cell_type": "code",
   "execution_count": 3,
   "id": "0299831f",
   "metadata": {},
   "outputs": [
    {
     "name": "stdout",
     "output_type": "stream",
     "text": [
      "9\n"
     ]
    }
   ],
   "source": [
    "\n",
    "def acc(num1, lst):\n",
    "    for num in lst:\n",
    "        num1 += num\n",
    "    return num1\n",
    "\n",
    "\n",
    "print(acc(0, (1,3,5)))"
   ]
  },
  {
   "cell_type": "code",
   "execution_count": null,
   "id": "651f107a",
   "metadata": {},
   "outputs": [],
   "source": [
    "6"
   ]
  },
  {
   "cell_type": "code",
   "execution_count": 4,
   "id": "8003e11b",
   "metadata": {},
   "outputs": [
    {
     "name": "stdout",
     "output_type": "stream",
     "text": [
      "[0, 1]\n"
     ]
    }
   ],
   "source": [
    "def fib(no_of_terms):\n",
    "\n",
    "    n1 = 0\n",
    "    n2 = 1\n",
    "    count = 0\n",
    "\n",
    "    fibo = []\n",
    "\n",
    "\n",
    "\n",
    "    while count < no_of_terms:\n",
    "        fibo.append(n1)\n",
    "        nth = n1 + n2\n",
    "        n1 = n2\n",
    "        n2 = nth\n",
    "        count +=1\n",
    "\n",
    "    return fibo\n",
    "\n",
    "\n",
    "print(fib(2))"
   ]
  }
 ],
 "metadata": {
  "kernelspec": {
   "display_name": "Python 3 (ipykernel)",
   "language": "python",
   "name": "python3"
  },
  "language_info": {
   "codemirror_mode": {
    "name": "ipython",
    "version": 3
   },
   "file_extension": ".py",
   "mimetype": "text/x-python",
   "name": "python",
   "nbconvert_exporter": "python",
   "pygments_lexer": "ipython3",
   "version": "3.10.9"
  }
 },
 "nbformat": 4,
 "nbformat_minor": 5
}
