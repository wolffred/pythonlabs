{
 "cells": [
  {
   "cell_type": "code",
   "execution_count": null,
   "id": "b8f7ebfe",
   "metadata": {},
   "outputs": [],
   "source": [
    "2"
   ]
  },
  {
   "cell_type": "code",
   "execution_count": 7,
   "id": "0c7bc693",
   "metadata": {},
   "outputs": [
    {
     "name": "stdout",
     "output_type": "stream",
     "text": [
      "this is my first file\n",
      "\n"
     ]
    }
   ],
   "source": [
    "with open(\"file1.txt\") as fo:\n",
    "    data = fo.read()\n",
    "\n",
    "\n",
    "data += \"\\n\"\n",
    "\n",
    "#print(data)\n",
    "\n",
    "\n",
    "with open(\"file2.txt\", \"w\") as f2:\n",
    "    f2.write(data)\n",
    "\n",
    "new_file = open(\"file2.txt\", \"r\")\n",
    "\n",
    "for line in new_file.readlines():\n",
    "    print(line)\n",
    "\n",
    "new_file.close()"
   ]
  },
  {
   "cell_type": "code",
   "execution_count": null,
   "id": "d2b33622",
   "metadata": {},
   "outputs": [],
   "source": [
    "3"
   ]
  },
  {
   "cell_type": "code",
   "execution_count": 1,
   "id": "a4865adc",
   "metadata": {},
   "outputs": [
    {
     "name": "stdout",
     "output_type": "stream",
     "text": [
      "this is my first file\n",
      "\n",
      "this is my second file\n",
      "\n",
      "this is my third file\n",
      "\n"
     ]
    }
   ],
   "source": [
    "with open(\"file1.txt\") as fileone:\n",
    "    data = fileone.read()\n",
    "\n",
    "data += \"\\n\"\n",
    "\n",
    "with open(\"file2.txt\") as filetwo:\n",
    "    data2 = filetwo.read()\n",
    "\n",
    "data += data2\n",
    "\n",
    "data += \"\\n\"\n",
    "\n",
    "with open(\"file3.txt\") as filethree:\n",
    "    data3 = filethree.read()\n",
    "\n",
    "data += data3\n",
    "\n",
    "data += \"\\n\"\n",
    "\n",
    "with open (\"file4.txt\", \"w\") as filefour:\n",
    "    filefour.write(data)\n",
    "\n",
    "\n",
    "new_file = open(\"file4.txt\", \"r\")\n",
    "\n",
    "for line in new_file.readlines():\n",
    "    print(line)"
   ]
  },
  {
   "cell_type": "markdown",
   "id": "e4b49562",
   "metadata": {},
   "source": [
    "4"
   ]
  },
  {
   "cell_type": "code",
   "execution_count": null,
   "id": "13982d95",
   "metadata": {},
   "outputs": [],
   "source": []
  }
 ],
 "metadata": {
  "kernelspec": {
   "display_name": "Python 3 (ipykernel)",
   "language": "python",
   "name": "python3"
  },
  "language_info": {
   "codemirror_mode": {
    "name": "ipython",
    "version": 3
   },
   "file_extension": ".py",
   "mimetype": "text/x-python",
   "name": "python",
   "nbconvert_exporter": "python",
   "pygments_lexer": "ipython3",
   "version": "3.10.9"
  }
 },
 "nbformat": 4,
 "nbformat_minor": 5
}
