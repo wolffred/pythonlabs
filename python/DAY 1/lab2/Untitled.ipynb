{
 "cells": [
  {
   "cell_type": "code",
   "execution_count": null,
   "id": "73b37091",
   "metadata": {},
   "outputs": [],
   "source": [
    "5"
   ]
  },
  {
   "cell_type": "code",
   "execution_count": null,
   "id": "0ae624dc",
   "metadata": {},
   "outputs": [],
   "source": [
    "print(type(5))\n",
    "print(type(5000 * 50000000))\n",
    "print(type('j'))\n",
    "print(type(1j))\n",
    "print(type([1]))\n",
    "print(type(None))\n",
    "print(type('j'))"
   ]
  },
  {
   "cell_type": "code",
   "execution_count": null,
   "id": "93e824e6",
   "metadata": {},
   "outputs": [],
   "source": [
    "6"
   ]
  },
  {
   "cell_type": "code",
   "execution_count": null,
   "id": "54ffa3f0",
   "metadata": {},
   "outputs": [],
   "source": [
    "print(5.551115123125787e-17)\n",
    "\n",
    "print( 0.1 + 0.1 + 0.1)\n",
    "\n",
    "print(Decimal(\".1\") + Decimal(\".1\") + Decimal(\".1\"))"
   ]
  },
  {
   "cell_type": "code",
   "execution_count": null,
   "id": "32617199",
   "metadata": {},
   "outputs": [],
   "source": [
    "7"
   ]
  },
  {
   "cell_type": "code",
   "execution_count": 2,
   "id": "35f789f0",
   "metadata": {
    "scrolled": true
   },
   "outputs": [
    {
     "name": "stdout",
     "output_type": "stream",
     "text": [
      "0\n",
      "1\n",
      "1\n",
      "2\n",
      "3\n",
      "5\n",
      "8\n",
      "13\n",
      "21\n",
      "34\n",
      "55\n",
      "89\n",
      "144\n",
      "233\n",
      "377\n",
      "610\n",
      "987\n",
      "1597\n",
      "2584\n",
      "4181\n"
     ]
    }
   ],
   "source": [
    "n1 = 0\n",
    "n2 = 1\n",
    "count = 0\n",
    "\n",
    "\n",
    "while count < 20:\n",
    "    print(n1)\n",
    "    nth = n1 + n2\n",
    "    n1 = n2\n",
    "    n2 = nth\n",
    "    count +=1"
   ]
  },
  {
   "cell_type": "code",
   "execution_count": null,
   "id": "a57f4e42",
   "metadata": {},
   "outputs": [],
   "source": [
    "8"
   ]
  },
  {
   "cell_type": "code",
   "execution_count": 3,
   "id": "d8c23690",
   "metadata": {},
   "outputs": [
    {
     "name": "stdout",
     "output_type": "stream",
     "text": [
      "l\n",
      "W :\n",
      "i :\n",
      "l :\n",
      "l :\n"
     ]
    }
   ],
   "source": [
    "my_name = \"Will\"\n",
    "\n",
    "print(my_name[-1])\n",
    "\n",
    "for letter in my_name:\n",
    "    print(letter, ':')"
   ]
  },
  {
   "cell_type": "code",
   "execution_count": null,
   "id": "6b754c8a",
   "metadata": {},
   "outputs": [],
   "source": [
    "9"
   ]
  },
  {
   "cell_type": "code",
   "execution_count": 7,
   "id": "c403961e",
   "metadata": {},
   "outputs": [
    {
     "name": "stdout",
     "output_type": "stream",
     "text": [
      "Enter 10 numbers between 1 and 8 : 1032322\n",
      "['1', '0', '3', '2', '3', '2', '2']\n",
      "0\n"
     ]
    }
   ],
   "source": [
    "list1 = list(input(\"Enter 10 numbers between 1 and 8 : \"))\n",
    "\n",
    "print(list1)\n",
    "print(list1.count(\"5\"))"
   ]
  },
  {
   "cell_type": "code",
   "execution_count": null,
   "id": "ded9353d",
   "metadata": {},
   "outputs": [],
   "source": []
  }
 ],
 "metadata": {
  "kernelspec": {
   "display_name": "Python 3 (ipykernel)",
   "language": "python",
   "name": "python3"
  },
  "language_info": {
   "codemirror_mode": {
    "name": "ipython",
    "version": 3
   },
   "file_extension": ".py",
   "mimetype": "text/x-python",
   "name": "python",
   "nbconvert_exporter": "python",
   "pygments_lexer": "ipython3",
   "version": "3.10.9"
  }
 },
 "nbformat": 4,
 "nbformat_minor": 5
}
